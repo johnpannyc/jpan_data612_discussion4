{
 "cells": [
  {
   "cell_type": "markdown",
   "metadata": {},
   "source": [
    "Research studies have shown that online recommendations have significant influence on users’ preference ratings and economic behavior. Specifically, the self-reported preference rating (for a specific consumed item) that is submitted by a user to a recommender system can be affected (i.e., distorted) by the previously observed system’s recommendation. For example, youTube recommendation system tends to offer extreme materials for you to watch just like restaurants offer salty, fatty food for you to eat. Eating salty, fatty food can cause you weight gain, high blood pressure and more metallic symptoms.  Watching extreme materials can distort our mental health.   Accumulatively, recommendation system has bias can cause serious problem mentally and affect people’s normal judgment.  In general, anchoring (or anchoring-like) biases reflected in user ratings not only provide a distorted view of user preferences but also contaminate inputs of recommender systems, leading to decreased quality of future recommendations.\n",
    "\n",
    "Admovicius in his article mentioned that recommendation system do more than introduce consumers to new products; they also shape their future preferences and behaviors in unexpected ways. \n",
    "G. Adomavicius, J.C. Bockstedt, S.P. Curley, and J. Zhang, “Effects of Online Recommendations on Consumers’ Willingness to Pay.”          \n",
    "https://pubsonline.informs.org/doi/abs/10.1287/isre.2017.0703\n",
    "\n",
    "Krishnan explains aggregate statistics (the average/mean or median rating value) in Amazon, Netflix, and the California Report Card that can lead to social influence bias. This paper explores a methodology for learning, analyzing, and mitigating such bias.\n",
    "https://pubsonline.informs.org/doi/abs/10.1287/isre.2017.0703\n",
    "\n",
    " As recommender systems continue to become increasingly popular in today's online environments, preventing or reducing such system-induced biases constitutes a highly important and practical research problem. \n",
    "\n",
    " \n"
   ]
  }
 ],
 "metadata": {
  "kernelspec": {
   "display_name": "Python 3",
   "language": "python",
   "name": "python3"
  },
  "language_info": {
   "codemirror_mode": {
    "name": "ipython",
    "version": 3
   },
   "file_extension": ".py",
   "mimetype": "text/x-python",
   "name": "python",
   "nbconvert_exporter": "python",
   "pygments_lexer": "ipython3",
   "version": "3.5.5"
  }
 },
 "nbformat": 4,
 "nbformat_minor": 2
}
